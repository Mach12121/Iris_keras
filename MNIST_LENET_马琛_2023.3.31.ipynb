{
 "cells": [
  {
   "cell_type": "code",
   "execution_count": 7,
   "metadata": {},
   "outputs": [],
   "source": [
    "import tensorflow as tf\n",
    "from tensorflow.keras.datasets import mnist\n",
    "# 加载 MNIST 数据集\n",
    "(x_train, y_train), (x_test, y_test) = mnist.load_data()"
   ]
  },
  {
   "cell_type": "code",
   "execution_count": 8,
   "metadata": {},
   "outputs": [],
   "source": [
    "# 对数据进行预处理\n",
    "x_train = x_train.reshape((60000, 28, 28, 1)).astype('float32') / 255\n",
    "x_test = x_test.reshape((10000, 28, 28, 1)).astype('float32') / 255\n",
    "y_train = tf.keras.utils.to_categorical(y_train, 10)\n",
    "y_test = tf.keras.utils.to_categorical(y_test, 10)"
   ]
  },
  {
   "cell_type": "code",
   "execution_count": 9,
   "metadata": {},
   "outputs": [],
   "source": [
    "# 构建 LeNet-5 神经网络模型\n",
    "model = tf.keras.Sequential([\n",
    "    tf.keras.layers.Conv2D(6, kernel_size=(5, 5), activation='relu', input_shape=(28, 28, 1)),\n",
    "    tf.keras.layers.MaxPooling2D(pool_size=(2, 2)),\n",
    "    tf.keras.layers.Conv2D(16, kernel_size=(5, 5), activation='relu'),\n",
    "    tf.keras.layers.MaxPooling2D(pool_size=(2, 2)),\n",
    "    tf.keras.layers.Flatten(),\n",
    "    tf.keras.layers.Dense(120, activation='relu'),\n",
    "    tf.keras.layers.Dense(84, activation='relu'),\n",
    "    tf.keras.layers.Dense(10, activation='softmax')\n",
    "])"
   ]
  },
  {
   "cell_type": "code",
   "execution_count": 10,
   "metadata": {},
   "outputs": [],
   "source": [
    "# 设置回调函数，保存最佳模型\n",
    "checkpoint_callback = tf.keras.callbacks.ModelCheckpoint(\n",
    "    filepath='best_model.h5',\n",
    "    monitor='val_accuracy',\n",
    "    save_best_only=True,\n",
    "    mode='max'\n",
    ")"
   ]
  },
  {
   "cell_type": "code",
   "execution_count": 12,
   "metadata": {},
   "outputs": [
    {
     "name": "stdout",
     "output_type": "stream",
     "text": [
      "Epoch 1/30\n",
      "469/469 [==============================] - 7s 14ms/step - loss: 0.0053 - accuracy: 0.9984 - val_loss: 0.0510 - val_accuracy: 0.9898\n",
      "Epoch 2/30\n",
      "469/469 [==============================] - 7s 14ms/step - loss: 0.0044 - accuracy: 0.9986 - val_loss: 0.0446 - val_accuracy: 0.9901\n",
      "Epoch 3/30\n",
      "469/469 [==============================] - 7s 15ms/step - loss: 0.0033 - accuracy: 0.9988 - val_loss: 0.0404 - val_accuracy: 0.9910\n",
      "Epoch 4/30\n",
      "469/469 [==============================] - 7s 15ms/step - loss: 0.0033 - accuracy: 0.9988 - val_loss: 0.0609 - val_accuracy: 0.9884\n",
      "Epoch 5/30\n",
      "469/469 [==============================] - 7s 15ms/step - loss: 0.0064 - accuracy: 0.9980 - val_loss: 0.0444 - val_accuracy: 0.9904\n",
      "Epoch 6/30\n",
      "469/469 [==============================] - 8s 16ms/step - loss: 0.0028 - accuracy: 0.9992 - val_loss: 0.0520 - val_accuracy: 0.9889\n",
      "Epoch 7/30\n",
      "469/469 [==============================] - 7s 16ms/step - loss: 0.0052 - accuracy: 0.9983 - val_loss: 0.0558 - val_accuracy: 0.9891\n",
      "Epoch 8/30\n",
      "469/469 [==============================] - 7s 15ms/step - loss: 0.0030 - accuracy: 0.9988 - val_loss: 0.0525 - val_accuracy: 0.9899\n",
      "Epoch 9/30\n",
      "469/469 [==============================] - 7s 15ms/step - loss: 0.0036 - accuracy: 0.9988 - val_loss: 0.0575 - val_accuracy: 0.9900\n",
      "Epoch 10/30\n",
      "469/469 [==============================] - 7s 16ms/step - loss: 0.0041 - accuracy: 0.9988 - val_loss: 0.0492 - val_accuracy: 0.9898\n",
      "Epoch 11/30\n",
      "469/469 [==============================] - 7s 16ms/step - loss: 0.0032 - accuracy: 0.9990 - val_loss: 0.0574 - val_accuracy: 0.9898\n",
      "Epoch 12/30\n",
      "469/469 [==============================] - 7s 16ms/step - loss: 0.0043 - accuracy: 0.9986 - val_loss: 0.0452 - val_accuracy: 0.9907\n",
      "Epoch 13/30\n",
      "469/469 [==============================] - 7s 15ms/step - loss: 0.0020 - accuracy: 0.9994 - val_loss: 0.0503 - val_accuracy: 0.9901\n",
      "Epoch 14/30\n",
      "469/469 [==============================] - 7s 16ms/step - loss: 0.0043 - accuracy: 0.9985 - val_loss: 0.0586 - val_accuracy: 0.9886\n",
      "Epoch 15/30\n",
      "469/469 [==============================] - 7s 16ms/step - loss: 0.0029 - accuracy: 0.9990 - val_loss: 0.0485 - val_accuracy: 0.9897\n",
      "Epoch 16/30\n",
      "469/469 [==============================] - 7s 16ms/step - loss: 0.0045 - accuracy: 0.9986 - val_loss: 0.0441 - val_accuracy: 0.9906\n",
      "Epoch 17/30\n",
      "469/469 [==============================] - 7s 16ms/step - loss: 0.0042 - accuracy: 0.9986 - val_loss: 0.0453 - val_accuracy: 0.9902\n",
      "Epoch 18/30\n",
      "469/469 [==============================] - 7s 16ms/step - loss: 9.0055e-04 - accuracy: 0.9997 - val_loss: 0.0583 - val_accuracy: 0.9883\n",
      "Epoch 19/30\n",
      "469/469 [==============================] - 7s 16ms/step - loss: 2.3664e-04 - accuracy: 1.0000 - val_loss: 0.0454 - val_accuracy: 0.9906\n",
      "Epoch 20/30\n",
      "469/469 [==============================] - 7s 16ms/step - loss: 3.8461e-05 - accuracy: 1.0000 - val_loss: 0.0449 - val_accuracy: 0.9909\n",
      "Epoch 21/30\n",
      "469/469 [==============================] - 7s 16ms/step - loss: 1.5643e-05 - accuracy: 1.0000 - val_loss: 0.0457 - val_accuracy: 0.9907\n",
      "Epoch 22/30\n",
      "469/469 [==============================] - 7s 16ms/step - loss: 1.2024e-05 - accuracy: 1.0000 - val_loss: 0.0461 - val_accuracy: 0.9908\n",
      "Epoch 23/30\n",
      "469/469 [==============================] - 7s 16ms/step - loss: 9.4130e-06 - accuracy: 1.0000 - val_loss: 0.0464 - val_accuracy: 0.9910\n",
      "Epoch 24/30\n",
      "469/469 [==============================] - 7s 16ms/step - loss: 7.5658e-06 - accuracy: 1.0000 - val_loss: 0.0468 - val_accuracy: 0.9913\n",
      "Epoch 25/30\n",
      "469/469 [==============================] - 8s 16ms/step - loss: 6.1984e-06 - accuracy: 1.0000 - val_loss: 0.0474 - val_accuracy: 0.9912\n",
      "Epoch 26/30\n",
      "469/469 [==============================] - 7s 16ms/step - loss: 4.9674e-06 - accuracy: 1.0000 - val_loss: 0.0482 - val_accuracy: 0.9912\n",
      "Epoch 27/30\n",
      "469/469 [==============================] - 7s 16ms/step - loss: 3.9792e-06 - accuracy: 1.0000 - val_loss: 0.0484 - val_accuracy: 0.9915\n",
      "Epoch 28/30\n",
      "469/469 [==============================] - 7s 16ms/step - loss: 3.1226e-06 - accuracy: 1.0000 - val_loss: 0.0493 - val_accuracy: 0.9913\n",
      "Epoch 29/30\n",
      "469/469 [==============================] - 7s 16ms/step - loss: 2.6297e-06 - accuracy: 1.0000 - val_loss: 0.0498 - val_accuracy: 0.9916\n",
      "Epoch 30/30\n",
      "469/469 [==============================] - 7s 16ms/step - loss: 2.1092e-06 - accuracy: 1.0000 - val_loss: 0.0506 - val_accuracy: 0.9915\n",
      "Test accuracy: 0.9915000200271606\n"
     ]
    }
   ],
   "source": [
    "# 编译模型\n",
    "model.compile(\n",
    "    optimizer='adam',\n",
    "    loss='categorical_crossentropy',\n",
    "    metrics=['accuracy']\n",
    ")\n",
    "\n",
    "# 训练模型\n",
    "history = model.fit(\n",
    "    x_train, y_train,\n",
    "    batch_size=128,\n",
    "    epochs=30,\n",
    "    validation_data=(x_test, y_test),\n",
    "    callbacks=[checkpoint_callback]\n",
    ")\n",
    "\n",
    "# 评估模型\n",
    "test_loss, test_acc = model.evaluate(x_test, y_test, verbose=0)\n",
    "print('Test accuracy:', test_acc)"
   ]
  },
  {
   "cell_type": "code",
   "execution_count": null,
   "metadata": {},
   "outputs": [],
   "source": []
  }
 ],
 "metadata": {
  "kernelspec": {
   "display_name": "Python 3",
   "language": "python",
   "name": "python3"
  },
  "language_info": {
   "codemirror_mode": {
    "name": "ipython",
    "version": 3
   },
   "file_extension": ".py",
   "mimetype": "text/x-python",
   "name": "python",
   "nbconvert_exporter": "python",
   "pygments_lexer": "ipython3",
   "version": "3.6.5"
  }
 },
 "nbformat": 4,
 "nbformat_minor": 2
}
